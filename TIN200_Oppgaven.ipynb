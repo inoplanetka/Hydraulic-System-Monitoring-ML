{
 "cells": [
  {
   "cell_type": "markdown",
   "metadata": {},
   "source": [
    "## Working with the \"Condition Monitoring of Hydraulic Systems\" dataset"
   ]
  },
  {
   "cell_type": "markdown",
   "metadata": {},
   "source": [
    "### Imports"
   ]
  },
  {
   "cell_type": "code",
   "execution_count": 1,
   "metadata": {},
   "outputs": [],
   "source": [
    "import math as m\n",
    "import pandas as pd\n",
    "import numpy as np\n",
    "import seaborn as sns\n",
    "import matplotlib.pyplot as plt\n",
    "import matplotlib\n",
    "import os\n",
    "\n",
    "from sklearn.decomposition import PCA\n",
    "from sklearn.pipeline import make_pipeline\n",
    "from sklearn.model_selection import train_test_split\n",
    "from sklearn.metrics import confusion_matrix\n",
    "from sklearn.ensemble import RandomForestClassifier\n",
    "from sklearn.preprocessing import StandardScaler\n",
    "from sklearn.decomposition import PCA\n",
    "from sklearn.svm import SVC\n",
    "from mlxtend.plotting import plot_decision_regions\n",
    "from sklearn.linear_model import LogisticRegression\n",
    "\n",
    "from sklearn.model_selection import StratifiedKFold\n",
    "from numpy import interp\n",
    "from sklearn.metrics import roc_curve, auc\n",
    "from sklearn.ensemble import BaggingClassifier\n",
    "from sklearn.tree     import DecisionTreeClassifier\n",
    "from sklearn.model_selection import RandomizedSearchCV\n",
    "from sklearn.metrics import accuracy_score\n",
    "from sklearn.metrics import classification_report\n",
    "from sklearn.ensemble import AdaBoostClassifier"
   ]
  },
  {
   "cell_type": "code",
   "execution_count": 2,
   "metadata": {},
   "outputs": [
    {
     "name": "stdout",
     "output_type": "stream",
     "text": [
      "3.8.5\n"
     ]
    }
   ],
   "source": [
    "from platform import python_version\n",
    "\n",
    "print(python_version())"
   ]
  },
  {
   "cell_type": "markdown",
   "metadata": {},
   "source": [
    "### Read in and plotting of target values"
   ]
  },
  {
   "cell_type": "code",
   "execution_count": 43,
   "metadata": {},
   "outputs": [
    {
     "data": {
      "text/html": [
       "<div>\n",
       "<style scoped>\n",
       "    .dataframe tbody tr th:only-of-type {\n",
       "        vertical-align: middle;\n",
       "    }\n",
       "\n",
       "    .dataframe tbody tr th {\n",
       "        vertical-align: top;\n",
       "    }\n",
       "\n",
       "    .dataframe thead th {\n",
       "        text-align: right;\n",
       "    }\n",
       "</style>\n",
       "<table border=\"1\" class=\"dataframe\">\n",
       "  <thead>\n",
       "    <tr style=\"text-align: right;\">\n",
       "      <th></th>\n",
       "      <th>cooler_condition</th>\n",
       "      <th>valve_condition</th>\n",
       "      <th>internal_pump_leak</th>\n",
       "      <th>hydraulic_accumulator</th>\n",
       "      <th>stable_flag</th>\n",
       "    </tr>\n",
       "  </thead>\n",
       "  <tbody>\n",
       "    <tr>\n",
       "      <th>0</th>\n",
       "      <td>3</td>\n",
       "      <td>100</td>\n",
       "      <td>0</td>\n",
       "      <td>130</td>\n",
       "      <td>1</td>\n",
       "    </tr>\n",
       "    <tr>\n",
       "      <th>1</th>\n",
       "      <td>3</td>\n",
       "      <td>100</td>\n",
       "      <td>0</td>\n",
       "      <td>130</td>\n",
       "      <td>1</td>\n",
       "    </tr>\n",
       "    <tr>\n",
       "      <th>2</th>\n",
       "      <td>3</td>\n",
       "      <td>100</td>\n",
       "      <td>0</td>\n",
       "      <td>130</td>\n",
       "      <td>1</td>\n",
       "    </tr>\n",
       "    <tr>\n",
       "      <th>3</th>\n",
       "      <td>3</td>\n",
       "      <td>100</td>\n",
       "      <td>0</td>\n",
       "      <td>130</td>\n",
       "      <td>1</td>\n",
       "    </tr>\n",
       "    <tr>\n",
       "      <th>4</th>\n",
       "      <td>3</td>\n",
       "      <td>100</td>\n",
       "      <td>0</td>\n",
       "      <td>130</td>\n",
       "      <td>1</td>\n",
       "    </tr>\n",
       "    <tr>\n",
       "      <th>5</th>\n",
       "      <td>3</td>\n",
       "      <td>100</td>\n",
       "      <td>0</td>\n",
       "      <td>130</td>\n",
       "      <td>1</td>\n",
       "    </tr>\n",
       "    <tr>\n",
       "      <th>6</th>\n",
       "      <td>3</td>\n",
       "      <td>100</td>\n",
       "      <td>0</td>\n",
       "      <td>130</td>\n",
       "      <td>1</td>\n",
       "    </tr>\n",
       "    <tr>\n",
       "      <th>7</th>\n",
       "      <td>3</td>\n",
       "      <td>100</td>\n",
       "      <td>0</td>\n",
       "      <td>130</td>\n",
       "      <td>1</td>\n",
       "    </tr>\n",
       "    <tr>\n",
       "      <th>8</th>\n",
       "      <td>3</td>\n",
       "      <td>100</td>\n",
       "      <td>0</td>\n",
       "      <td>130</td>\n",
       "      <td>1</td>\n",
       "    </tr>\n",
       "    <tr>\n",
       "      <th>9</th>\n",
       "      <td>3</td>\n",
       "      <td>100</td>\n",
       "      <td>0</td>\n",
       "      <td>130</td>\n",
       "      <td>1</td>\n",
       "    </tr>\n",
       "  </tbody>\n",
       "</table>\n",
       "</div>"
      ],
      "text/plain": [
       "   cooler_condition  valve_condition  internal_pump_leak  \\\n",
       "0                 3              100                   0   \n",
       "1                 3              100                   0   \n",
       "2                 3              100                   0   \n",
       "3                 3              100                   0   \n",
       "4                 3              100                   0   \n",
       "5                 3              100                   0   \n",
       "6                 3              100                   0   \n",
       "7                 3              100                   0   \n",
       "8                 3              100                   0   \n",
       "9                 3              100                   0   \n",
       "\n",
       "   hydraulic_accumulator  stable_flag  \n",
       "0                    130            1  \n",
       "1                    130            1  \n",
       "2                    130            1  \n",
       "3                    130            1  \n",
       "4                    130            1  \n",
       "5                    130            1  \n",
       "6                    130            1  \n",
       "7                    130            1  \n",
       "8                    130            1  \n",
       "9                    130            1  "
      ]
     },
     "execution_count": 43,
     "metadata": {},
     "output_type": "execute_result"
    }
   ],
   "source": [
    "# Load in the target variables as a Pandas DataFrame\n",
    "colnam = ['cooler_condition', 'valve_condition', 'internal_pump_leak', 'hydraulic_accumulator', 'stable_flag']\n",
    "\n",
    "# whitespace separators for target condition values since there are no other separators\n",
    "target = pd.read_csv('profile.txt',delim_whitespace=True,header=None,names=colnam)\n",
    "\n",
    "# First 10 lines\n",
    "target.head(10)"
   ]
  },
  {
   "cell_type": "code",
   "execution_count": 44,
   "metadata": {},
   "outputs": [
    {
     "name": "stdout",
     "output_type": "stream",
     "text": [
      "cooler_condition         0\n",
      "valve_condition          0\n",
      "internal_pump_leak       0\n",
      "hydraulic_accumulator    0\n",
      "stable_flag              0\n",
      "dtype: int64\n"
     ]
    }
   ],
   "source": [
    "# check for potential missing values in the target\n",
    "print(target.isna().sum())"
   ]
  },
  {
   "cell_type": "code",
   "execution_count": 45,
   "metadata": {},
   "outputs": [
    {
     "data": {
      "image/png": "[encoded data removed]",
      "text/plain": [
       "<Figure size 1080x720 with 6 Axes>"
      ]
     },
     "metadata": {
      "needs_background": "light"
     },
     "output_type": "display_data"
    }
   ],
   "source": [
    "# plotting target data to see overall condition distribution through a histogram\n",
    "# most of the runs condition were stable according to the stable flags\n",
    "target.hist()\n",
    "plt.tight_layout()\n",
    "plt.rcParams['figure.figsize'] = [20, 7.5]\n",
    "plt.show()"
   ]
  },
  {
   "cell_type": "code",
   "execution_count": 46,
   "metadata": {},
   "outputs": [
    {
     "name": "stderr",
     "output_type": "stream",
     "text": [
      "C:\\Users\\hei\\anaconda3\\lib\\site-packages\\seaborn\\distributions.py:2551: FutureWarning: `distplot` is a deprecated function and will be removed in a future version. Please adapt your code to use either `displot` (a figure-level function with similar flexibility) or `histplot` (an axes-level function for histograms).\n",
      "  warnings.warn(msg, FutureWarning)\n"
     ]
    },
    {
     "data": {
      "text/plain": [
       "<AxesSubplot:xlabel='cooler_condition', ylabel='Density'>"
      ]
     },
     "execution_count": 46,
     "metadata": {},
     "output_type": "execute_result"
    },
    {
     "data": {
      "image/png": "[encoded data removed]",
      "text/plain": [
       "<Figure size 1440x540 with 1 Axes>"
      ]
     },
     "metadata": {
      "needs_background": "light"
     },
     "output_type": "display_data"
    }
   ],
   "source": [
    "# seaborn displot represents the cooler condition better\n",
    "sns.distplot(target[colnam[0]])"
   ]
  },
  {
   "cell_type": "markdown",
   "metadata": {},
   "source": [
    "### Read in, preprocessing and plotting of dataset"
   ]
  },
  {
   "cell_type": "code",
   "execution_count": 7,
   "metadata": {},
   "outputs": [],
   "source": [
    "# Pressure read in\n",
    "pressure_1 = pd.read_csv('PS1.txt',delim_whitespace=True,header=None)\n",
    "pressure_2 = pd.read_csv('PS2.txt',delim_whitespace=True,header=None)\n",
    "pressure_3 = pd.read_csv('PS3.txt',delim_whitespace=True,header=None)\n",
    "pressure_4 = pd.read_csv('PS4.txt',delim_whitespace=True,header=None)\n",
    "pressure_5 = pd.read_csv('PS5.txt',delim_whitespace=True,header=None)\n",
    "pressure_6 = pd.read_csv('PS6.txt',delim_whitespace=True,header=None)"
   ]
  },
  {
   "cell_type": "code",
   "execution_count": 8,
   "metadata": {},
   "outputs": [],
   "source": [
    "# Load the rest\n",
    "motor_power = pd.read_csv('EPS1.txt',delim_whitespace=True,header=None)\n",
    "vibration = pd.read_csv('VS1.txt',delim_whitespace=True,header=None)\n",
    "cool_eff = pd.read_csv('CE.txt',delim_whitespace=True,header=None)\n",
    "cool_pwr = pd.read_csv('CP.txt',delim_whitespace=True,header=None)\n",
    "effcy_fctr = pd.read_csv('SE.txt',delim_whitespace=True,header=None)"
   ]
  },
  {
   "cell_type": "code",
   "execution_count": 9,
   "metadata": {},
   "outputs": [],
   "source": [
    "# Temperature\n",
    "temperature_1 = pd.read_csv('TS1.txt',delim_whitespace=True,header=None)\n",
    "temperature_2 = pd.read_csv('TS2.txt',delim_whitespace=True,header=None)\n",
    "temperature_3 = pd.read_csv('TS3.txt',delim_whitespace=True,header=None)\n",
    "temperature_4 = pd.read_csv('TS4.txt',delim_whitespace=True,header=None)"
   ]
  },
  {
   "cell_type": "code",
   "execution_count": 10,
   "metadata": {},
   "outputs": [],
   "source": [
    "# Volume flow\n",
    "volflow_1 = pd.read_csv('FS1.txt',delim_whitespace=True,header=None)\n",
    "volflow_2 = pd.read_csv('FS2.txt',delim_whitespace=True,header=None)"
   ]
  },
  {
   "cell_type": "code",
   "execution_count": 11,
   "metadata": {},
   "outputs": [
    {
     "data": {
      "text/html": [
       "<div>\n",
       "<style scoped>\n",
       "    .dataframe tbody tr th:only-of-type {\n",
       "        vertical-align: middle;\n",
       "    }\n",
       "\n",
       "    .dataframe tbody tr th {\n",
       "        vertical-align: top;\n",
       "    }\n",
       "\n",
       "    .dataframe thead th {\n",
       "        text-align: right;\n",
       "    }\n",
       "</style>\n",
       "<table border=\"1\" class=\"dataframe\">\n",
       "  <thead>\n",
       "    <tr style=\"text-align: right;\">\n",
       "      <th></th>\n",
       "      <th>0</th>\n",
       "      <th>1</th>\n",
       "      <th>2</th>\n",
       "      <th>3</th>\n",
       "      <th>4</th>\n",
       "      <th>5</th>\n",
       "      <th>6</th>\n",
       "      <th>7</th>\n",
       "      <th>8</th>\n",
       "      <th>9</th>\n",
       "      <th>...</th>\n",
       "      <th>5990</th>\n",
       "      <th>5991</th>\n",
       "      <th>5992</th>\n",
       "      <th>5993</th>\n",
       "      <th>5994</th>\n",
       "      <th>5995</th>\n",
       "      <th>5996</th>\n",
       "      <th>5997</th>\n",
       "      <th>5998</th>\n",
       "      <th>5999</th>\n",
       "    </tr>\n",
       "  </thead>\n",
       "  <tbody>\n",
       "    <tr>\n",
       "      <th>0</th>\n",
       "      <td>151.47</td>\n",
       "      <td>151.45</td>\n",
       "      <td>151.52</td>\n",
       "      <td>151.27</td>\n",
       "      <td>150.80</td>\n",
       "      <td>150.69</td>\n",
       "      <td>153.89</td>\n",
       "      <td>154.67</td>\n",
       "      <td>152.88</td>\n",
       "      <td>153.82</td>\n",
       "      <td>...</td>\n",
       "      <td>151.16</td>\n",
       "      <td>151.19</td>\n",
       "      <td>151.25</td>\n",
       "      <td>151.16</td>\n",
       "      <td>151.10</td>\n",
       "      <td>151.16</td>\n",
       "      <td>151.14</td>\n",
       "      <td>151.10</td>\n",
       "      <td>151.21</td>\n",
       "      <td>151.19</td>\n",
       "    </tr>\n",
       "    <tr>\n",
       "      <th>1</th>\n",
       "      <td>151.11</td>\n",
       "      <td>151.12</td>\n",
       "      <td>151.16</td>\n",
       "      <td>150.92</td>\n",
       "      <td>150.70</td>\n",
       "      <td>150.62</td>\n",
       "      <td>152.40</td>\n",
       "      <td>153.21</td>\n",
       "      <td>152.81</td>\n",
       "      <td>153.53</td>\n",
       "      <td>...</td>\n",
       "      <td>150.82</td>\n",
       "      <td>150.82</td>\n",
       "      <td>150.86</td>\n",
       "      <td>150.80</td>\n",
       "      <td>150.73</td>\n",
       "      <td>150.79</td>\n",
       "      <td>150.84</td>\n",
       "      <td>150.79</td>\n",
       "      <td>150.80</td>\n",
       "      <td>150.86</td>\n",
       "    </tr>\n",
       "    <tr>\n",
       "      <th>2</th>\n",
       "      <td>150.81</td>\n",
       "      <td>150.79</td>\n",
       "      <td>150.84</td>\n",
       "      <td>150.65</td>\n",
       "      <td>150.35</td>\n",
       "      <td>150.23</td>\n",
       "      <td>152.03</td>\n",
       "      <td>152.81</td>\n",
       "      <td>152.44</td>\n",
       "      <td>153.27</td>\n",
       "      <td>...</td>\n",
       "      <td>150.49</td>\n",
       "      <td>150.44</td>\n",
       "      <td>150.47</td>\n",
       "      <td>150.46</td>\n",
       "      <td>150.38</td>\n",
       "      <td>150.47</td>\n",
       "      <td>150.50</td>\n",
       "      <td>150.43</td>\n",
       "      <td>150.54</td>\n",
       "      <td>150.62</td>\n",
       "    </tr>\n",
       "    <tr>\n",
       "      <th>3</th>\n",
       "      <td>150.48</td>\n",
       "      <td>150.47</td>\n",
       "      <td>150.52</td>\n",
       "      <td>150.31</td>\n",
       "      <td>150.04</td>\n",
       "      <td>149.98</td>\n",
       "      <td>151.63</td>\n",
       "      <td>152.48</td>\n",
       "      <td>152.24</td>\n",
       "      <td>152.94</td>\n",
       "      <td>...</td>\n",
       "      <td>150.34</td>\n",
       "      <td>150.30</td>\n",
       "      <td>150.28</td>\n",
       "      <td>150.38</td>\n",
       "      <td>150.41</td>\n",
       "      <td>150.33</td>\n",
       "      <td>150.31</td>\n",
       "      <td>150.31</td>\n",
       "      <td>150.25</td>\n",
       "      <td>150.28</td>\n",
       "    </tr>\n",
       "    <tr>\n",
       "      <th>4</th>\n",
       "      <td>150.41</td>\n",
       "      <td>150.35</td>\n",
       "      <td>150.24</td>\n",
       "      <td>150.12</td>\n",
       "      <td>149.87</td>\n",
       "      <td>149.71</td>\n",
       "      <td>151.64</td>\n",
       "      <td>152.37</td>\n",
       "      <td>151.78</td>\n",
       "      <td>152.68</td>\n",
       "      <td>...</td>\n",
       "      <td>150.31</td>\n",
       "      <td>150.20</td>\n",
       "      <td>150.17</td>\n",
       "      <td>150.28</td>\n",
       "      <td>150.31</td>\n",
       "      <td>150.25</td>\n",
       "      <td>150.27</td>\n",
       "      <td>150.22</td>\n",
       "      <td>150.13</td>\n",
       "      <td>150.19</td>\n",
       "    </tr>\n",
       "    <tr>\n",
       "      <th>...</th>\n",
       "      <td>...</td>\n",
       "      <td>...</td>\n",
       "      <td>...</td>\n",
       "      <td>...</td>\n",
       "      <td>...</td>\n",
       "      <td>...</td>\n",
       "      <td>...</td>\n",
       "      <td>...</td>\n",
       "      <td>...</td>\n",
       "      <td>...</td>\n",
       "      <td>...</td>\n",
       "      <td>...</td>\n",
       "      <td>...</td>\n",
       "      <td>...</td>\n",
       "      <td>...</td>\n",
       "      <td>...</td>\n",
       "      <td>...</td>\n",
       "      <td>...</td>\n",
       "      <td>...</td>\n",
       "      <td>...</td>\n",
       "      <td>...</td>\n",
       "    </tr>\n",
       "    <tr>\n",
       "      <th>2200</th>\n",
       "      <td>151.70</td>\n",
       "      <td>151.83</td>\n",
       "      <td>151.90</td>\n",
       "      <td>151.75</td>\n",
       "      <td>151.62</td>\n",
       "      <td>151.63</td>\n",
       "      <td>153.78</td>\n",
       "      <td>154.73</td>\n",
       "      <td>153.83</td>\n",
       "      <td>154.43</td>\n",
       "      <td>...</td>\n",
       "      <td>151.84</td>\n",
       "      <td>151.75</td>\n",
       "      <td>151.67</td>\n",
       "      <td>151.76</td>\n",
       "      <td>151.81</td>\n",
       "      <td>151.78</td>\n",
       "      <td>151.78</td>\n",
       "      <td>151.83</td>\n",
       "      <td>151.84</td>\n",
       "      <td>151.86</td>\n",
       "    </tr>\n",
       "    <tr>\n",
       "      <th>2201</th>\n",
       "      <td>151.90</td>\n",
       "      <td>151.83</td>\n",
       "      <td>151.81</td>\n",
       "      <td>151.77</td>\n",
       "      <td>151.65</td>\n",
       "      <td>151.63</td>\n",
       "      <td>153.97</td>\n",
       "      <td>154.84</td>\n",
       "      <td>153.67</td>\n",
       "      <td>154.37</td>\n",
       "      <td>...</td>\n",
       "      <td>151.81</td>\n",
       "      <td>151.81</td>\n",
       "      <td>151.84</td>\n",
       "      <td>151.83</td>\n",
       "      <td>151.79</td>\n",
       "      <td>151.87</td>\n",
       "      <td>151.87</td>\n",
       "      <td>151.75</td>\n",
       "      <td>151.77</td>\n",
       "      <td>151.78</td>\n",
       "    </tr>\n",
       "    <tr>\n",
       "      <th>2202</th>\n",
       "      <td>151.73</td>\n",
       "      <td>151.78</td>\n",
       "      <td>151.84</td>\n",
       "      <td>151.62</td>\n",
       "      <td>151.46</td>\n",
       "      <td>151.49</td>\n",
       "      <td>153.91</td>\n",
       "      <td>154.88</td>\n",
       "      <td>153.69</td>\n",
       "      <td>154.24</td>\n",
       "      <td>...</td>\n",
       "      <td>151.73</td>\n",
       "      <td>151.66</td>\n",
       "      <td>151.73</td>\n",
       "      <td>151.71</td>\n",
       "      <td>151.68</td>\n",
       "      <td>151.79</td>\n",
       "      <td>151.84</td>\n",
       "      <td>151.73</td>\n",
       "      <td>151.73</td>\n",
       "      <td>151.83</td>\n",
       "    </tr>\n",
       "    <tr>\n",
       "      <th>2203</th>\n",
       "      <td>151.77</td>\n",
       "      <td>151.77</td>\n",
       "      <td>151.75</td>\n",
       "      <td>151.56</td>\n",
       "      <td>151.47</td>\n",
       "      <td>151.57</td>\n",
       "      <td>154.09</td>\n",
       "      <td>154.80</td>\n",
       "      <td>153.45</td>\n",
       "      <td>154.21</td>\n",
       "      <td>...</td>\n",
       "      <td>151.75</td>\n",
       "      <td>151.71</td>\n",
       "      <td>151.68</td>\n",
       "      <td>151.71</td>\n",
       "      <td>151.73</td>\n",
       "      <td>151.75</td>\n",
       "      <td>151.71</td>\n",
       "      <td>151.68</td>\n",
       "      <td>151.71</td>\n",
       "      <td>151.78</td>\n",
       "    </tr>\n",
       "    <tr>\n",
       "      <th>2204</th>\n",
       "      <td>151.83</td>\n",
       "      <td>151.78</td>\n",
       "      <td>151.77</td>\n",
       "      <td>151.65</td>\n",
       "      <td>151.49</td>\n",
       "      <td>151.48</td>\n",
       "      <td>154.00</td>\n",
       "      <td>154.77</td>\n",
       "      <td>153.48</td>\n",
       "      <td>154.29</td>\n",
       "      <td>...</td>\n",
       "      <td>151.70</td>\n",
       "      <td>151.71</td>\n",
       "      <td>151.63</td>\n",
       "      <td>151.64</td>\n",
       "      <td>151.67</td>\n",
       "      <td>151.64</td>\n",
       "      <td>151.70</td>\n",
       "      <td>151.73</td>\n",
       "      <td>151.71</td>\n",
       "      <td>151.70</td>\n",
       "    </tr>\n",
       "  </tbody>\n",
       "</table>\n",
       "<p>2205 rows × 6000 columns</p>\n",
       "</div>"
      ],
      "text/plain": [
       "        0       1       2       3       4       5       6       7       8     \\\n",
       "0     151.47  151.45  151.52  151.27  150.80  150.69  153.89  154.67  152.88   \n",
       "1     151.11  151.12  151.16  150.92  150.70  150.62  152.40  153.21  152.81   \n",
       "2     150.81  150.79  150.84  150.65  150.35  150.23  152.03  152.81  152.44   \n",
       "3     150.48  150.47  150.52  150.31  150.04  149.98  151.63  152.48  152.24   \n",
       "4     150.41  150.35  150.24  150.12  149.87  149.71  151.64  152.37  151.78   \n",
       "...      ...     ...     ...     ...     ...     ...     ...     ...     ...   \n",
       "2200  151.70  151.83  151.90  151.75  151.62  151.63  153.78  154.73  153.83   \n",
       "2201  151.90  151.83  151.81  151.77  151.65  151.63  153.97  154.84  153.67   \n",
       "2202  151.73  151.78  151.84  151.62  151.46  151.49  153.91  154.88  153.69   \n",
       "2203  151.77  151.77  151.75  151.56  151.47  151.57  154.09  154.80  153.45   \n",
       "2204  151.83  151.78  151.77  151.65  151.49  151.48  154.00  154.77  153.48   \n",
       "\n",
       "        9     ...    5990    5991    5992    5993    5994    5995    5996  \\\n",
       "0     153.82  ...  151.16  151.19  151.25  151.16  151.10  151.16  151.14   \n",
       "1     153.53  ...  150.82  150.82  150.86  150.80  150.73  150.79  150.84   \n",
       "2     153.27  ...  150.49  150.44  150.47  150.46  150.38  150.47  150.50   \n",
       "3     152.94  ...  150.34  150.30  150.28  150.38  150.41  150.33  150.31   \n",
       "4     152.68  ...  150.31  150.20  150.17  150.28  150.31  150.25  150.27   \n",
       "...      ...  ...     ...     ...     ...     ...     ...     ...     ...   \n",
       "2200  154.43  ...  151.84  151.75  151.67  151.76  151.81  151.78  151.78   \n",
       "2201  154.37  ...  151.81  151.81  151.84  151.83  151.79  151.87  151.87   \n",
       "2202  154.24  ...  151.73  151.66  151.73  151.71  151.68  151.79  151.84   \n",
       "2203  154.21  ...  151.75  151.71  151.68  151.71  151.73  151.75  151.71   \n",
       "2204  154.29  ...  151.70  151.71  151.63  151.64  151.67  151.64  151.70   \n",
       "\n",
       "        5997    5998    5999  \n",
       "0     151.10  151.21  151.19  \n",
       "1     150.79  150.80  150.86  \n",
       "2     150.43  150.54  150.62  \n",
       "3     150.31  150.25  150.28  \n",
       "4     150.22  150.13  150.19  \n",
       "...      ...     ...     ...  \n",
       "2200  151.83  151.84  151.86  \n",
       "2201  151.75  151.77  151.78  \n",
       "2202  151.73  151.73  151.83  \n",
       "2203  151.68  151.71  151.78  \n",
       "2204  151.73  151.71  151.70  \n",
       "\n",
       "[2205 rows x 6000 columns]"
      ]
     },
     "execution_count": 11,
     "metadata": {},
     "output_type": "execute_result"
    }
   ],
   "source": [
    "pressure_1"
   ]
  },
  {
   "cell_type": "code",
   "execution_count": 12,
   "metadata": {},
   "outputs": [],
   "source": [
    "#data_frames = [pressure1, pressure_2, pressure_3]"
   ]
  },
  {
   "cell_type": "code",
   "execution_count": 13,
   "metadata": {},
   "outputs": [],
   "source": [
    "#average the cycle data\n",
    "\n",
    "def mean_conversion(df):\n",
    "    df1 = pd.DataFrame()\n",
    "    df1 = df.mean(axis = 1)\n",
    "    return df1"
   ]
  },
  {
   "cell_type": "code",
   "execution_count": 14,
   "metadata": {},
   "outputs": [],
   "source": [
    "# Without taking the mean we get a pandas dataframe with a whopping 2205 rows and 43680 columns, \n",
    "# which is painful to work with. We could do feature extraction or dimensionality reduction but this is simple and effective\n",
    "\n",
    "pressure_1 = pd.DataFrame(pressure_1.mean(axis = 1))\n",
    "pressure_2 = pd.DataFrame(pressure_2.mean(axis = 1))\n",
    "pressure_3 = pd.DataFrame(pressure_3.mean(axis = 1))\n",
    "pressure_4 = pd.DataFrame(pressure_4.mean(axis = 1))\n",
    "pressure_5 = pd.DataFrame(pressure_5.mean(axis = 1))\n",
    "pressure_6 = pd.DataFrame(pressure_6.mean(axis = 1))\n",
    "\n",
    "motor_power = pd.DataFrame(motor_power.mean(axis = 1))\n",
    "vibration = pd.DataFrame(vibration.mean(axis = 1))\n",
    "cool_eff = pd.DataFrame(cool_eff.mean(axis = 1))\n",
    "cool_pwr = pd.DataFrame(cool_pwr.mean(axis = 1))\n",
    "effcy_fctr = pd.DataFrame(effcy_fctr.mean(axis = 1))\n",
    "\n",
    "temperature_1 = pd.DataFrame(temperature_1.mean(axis = 1))\n",
    "temperature_2 = pd.DataFrame(temperature_2.mean(axis = 1))\n",
    "temperature_3 = pd.DataFrame(temperature_3.mean(axis = 1))\n",
    "temperature_4 = pd.DataFrame(temperature_4.mean(axis = 1))\n",
    "\n",
    "volflow_1 = pd.DataFrame(volflow_1.mean(axis = 1))\n",
    "volflow_2 = pd.DataFrame(volflow_2.mean(axis = 1))"
   ]
  },
  {
   "cell_type": "code",
   "execution_count": 15,
   "metadata": {},
   "outputs": [
    {
     "data": {
      "text/html": [
       "<div>\n",
       "<style scoped>\n",
       "    .dataframe tbody tr th:only-of-type {\n",
       "        vertical-align: middle;\n",
       "    }\n",
       "\n",
       "    .dataframe tbody tr th {\n",
       "        vertical-align: top;\n",
       "    }\n",
       "\n",
       "    .dataframe thead th {\n",
       "        text-align: right;\n",
       "    }\n",
       "</style>\n",
       "<table border=\"1\" class=\"dataframe\">\n",
       "  <thead>\n",
       "    <tr style=\"text-align: right;\">\n",
       "      <th></th>\n",
       "      <th>0</th>\n",
       "    </tr>\n",
       "  </thead>\n",
       "  <tbody>\n",
       "    <tr>\n",
       "      <th>0</th>\n",
       "      <td>10.304592</td>\n",
       "    </tr>\n",
       "    <tr>\n",
       "      <th>1</th>\n",
       "      <td>10.403098</td>\n",
       "    </tr>\n",
       "    <tr>\n",
       "      <th>2</th>\n",
       "      <td>10.366250</td>\n",
       "    </tr>\n",
       "    <tr>\n",
       "      <th>3</th>\n",
       "      <td>10.302678</td>\n",
       "    </tr>\n",
       "    <tr>\n",
       "      <th>4</th>\n",
       "      <td>10.237750</td>\n",
       "    </tr>\n",
       "    <tr>\n",
       "      <th>...</th>\n",
       "      <td>...</td>\n",
       "    </tr>\n",
       "    <tr>\n",
       "      <th>2200</th>\n",
       "      <td>10.184515</td>\n",
       "    </tr>\n",
       "    <tr>\n",
       "      <th>2201</th>\n",
       "      <td>10.177767</td>\n",
       "    </tr>\n",
       "    <tr>\n",
       "      <th>2202</th>\n",
       "      <td>10.176172</td>\n",
       "    </tr>\n",
       "    <tr>\n",
       "      <th>2203</th>\n",
       "      <td>10.178353</td>\n",
       "    </tr>\n",
       "    <tr>\n",
       "      <th>2204</th>\n",
       "      <td>10.183393</td>\n",
       "    </tr>\n",
       "  </tbody>\n",
       "</table>\n",
       "<p>2205 rows × 1 columns</p>\n",
       "</div>"
      ],
      "text/plain": [
       "              0\n",
       "0     10.304592\n",
       "1     10.403098\n",
       "2     10.366250\n",
       "3     10.302678\n",
       "4     10.237750\n",
       "...         ...\n",
       "2200  10.184515\n",
       "2201  10.177767\n",
       "2202  10.176172\n",
       "2203  10.178353\n",
       "2204  10.183393\n",
       "\n",
       "[2205 rows x 1 columns]"
      ]
     },
     "execution_count": 15,
     "metadata": {},
     "output_type": "execute_result"
    }
   ],
   "source": [
    "volflow_2"
   ]
  },
  {
   "cell_type": "code",
   "execution_count": 16,
   "metadata": {},
   "outputs": [],
   "source": [
    "# Merge them all together and flip on the side\n",
    "df_full = pd.concat([pressure_1, pressure_2, pressure_3, pressure_4, pressure_5, pressure_6, \n",
    "                     temperature_1, temperature_2, temperature_3, temperature_4,\n",
    "                     motor_power, vibration, cool_eff, cool_pwr, effcy_fctr,\n",
    "                     volflow_1, volflow_2], axis=1)\n",
    "\n",
    "# add column names\n",
    "df_full.columns =['PS1','PS2','PS3','PS4','PS5','PS6','TS1','TS2','TS3','TS4','EPS1','VS1',\n",
    "                  'CE','CP','SE','FS1','FS2']"
   ]
  },
  {
   "cell_type": "code",
   "execution_count": 17,
   "metadata": {},
   "outputs": [
    {
     "data": {
      "text/html": [
       "<div>\n",
       "<style scoped>\n",
       "    .dataframe tbody tr th:only-of-type {\n",
       "        vertical-align: middle;\n",
       "    }\n",
       "\n",
       "    .dataframe tbody tr th {\n",
       "        vertical-align: top;\n",
       "    }\n",
       "\n",
       "    .dataframe thead th {\n",
       "        text-align: right;\n",
       "    }\n",
       "</style>\n",
       "<table border=\"1\" class=\"dataframe\">\n",
       "  <thead>\n",
       "    <tr style=\"text-align: right;\">\n",
       "      <th></th>\n",
       "      <th>PS1</th>\n",
       "      <th>PS2</th>\n",
       "      <th>PS3</th>\n",
       "      <th>PS4</th>\n",
       "      <th>PS5</th>\n",
       "      <th>PS6</th>\n",
       "      <th>TS1</th>\n",
       "      <th>TS2</th>\n",
       "      <th>TS3</th>\n",
       "      <th>TS4</th>\n",
       "      <th>EPS1</th>\n",
       "      <th>VS1</th>\n",
       "      <th>CE</th>\n",
       "      <th>CP</th>\n",
       "      <th>SE</th>\n",
       "      <th>FS1</th>\n",
       "      <th>FS2</th>\n",
       "    </tr>\n",
       "  </thead>\n",
       "  <tbody>\n",
       "    <tr>\n",
       "      <th>0</th>\n",
       "      <td>160.673492</td>\n",
       "      <td>109.466914</td>\n",
       "      <td>1.991475</td>\n",
       "      <td>0.000000</td>\n",
       "      <td>9.842170</td>\n",
       "      <td>9.728097</td>\n",
       "      <td>35.621983</td>\n",
       "      <td>40.978767</td>\n",
       "      <td>38.471017</td>\n",
       "      <td>31.745250</td>\n",
       "      <td>2538.929167</td>\n",
       "      <td>0.576950</td>\n",
       "      <td>39.601350</td>\n",
       "      <td>1.862750</td>\n",
       "      <td>59.157183</td>\n",
       "      <td>6.709815</td>\n",
       "      <td>10.304592</td>\n",
       "    </tr>\n",
       "    <tr>\n",
       "      <th>1</th>\n",
       "      <td>160.603320</td>\n",
       "      <td>109.354890</td>\n",
       "      <td>1.976234</td>\n",
       "      <td>0.000000</td>\n",
       "      <td>9.635142</td>\n",
       "      <td>9.529488</td>\n",
       "      <td>36.676967</td>\n",
       "      <td>41.532767</td>\n",
       "      <td>38.978967</td>\n",
       "      <td>34.493867</td>\n",
       "      <td>2531.498900</td>\n",
       "      <td>0.565850</td>\n",
       "      <td>25.786433</td>\n",
       "      <td>1.255550</td>\n",
       "      <td>59.335617</td>\n",
       "      <td>6.715315</td>\n",
       "      <td>10.403098</td>\n",
       "    </tr>\n",
       "    <tr>\n",
       "      <th>2</th>\n",
       "      <td>160.347720</td>\n",
       "      <td>109.158845</td>\n",
       "      <td>1.972224</td>\n",
       "      <td>0.000000</td>\n",
       "      <td>9.530548</td>\n",
       "      <td>9.427949</td>\n",
       "      <td>37.880800</td>\n",
       "      <td>42.442450</td>\n",
       "      <td>39.631950</td>\n",
       "      <td>35.646150</td>\n",
       "      <td>2519.928000</td>\n",
       "      <td>0.576533</td>\n",
       "      <td>22.218233</td>\n",
       "      <td>1.113217</td>\n",
       "      <td>59.543150</td>\n",
       "      <td>6.718522</td>\n",
       "      <td>10.366250</td>\n",
       "    </tr>\n",
       "    <tr>\n",
       "      <th>3</th>\n",
       "      <td>160.188088</td>\n",
       "      <td>109.064807</td>\n",
       "      <td>1.946575</td>\n",
       "      <td>0.000000</td>\n",
       "      <td>9.438827</td>\n",
       "      <td>9.337430</td>\n",
       "      <td>38.879050</td>\n",
       "      <td>43.403983</td>\n",
       "      <td>40.403383</td>\n",
       "      <td>36.579467</td>\n",
       "      <td>2511.541633</td>\n",
       "      <td>0.569267</td>\n",
       "      <td>20.459817</td>\n",
       "      <td>1.062150</td>\n",
       "      <td>59.794900</td>\n",
       "      <td>6.720565</td>\n",
       "      <td>10.302678</td>\n",
       "    </tr>\n",
       "    <tr>\n",
       "      <th>4</th>\n",
       "      <td>160.000472</td>\n",
       "      <td>108.931434</td>\n",
       "      <td>1.922707</td>\n",
       "      <td>0.000000</td>\n",
       "      <td>9.358762</td>\n",
       "      <td>9.260636</td>\n",
       "      <td>39.803917</td>\n",
       "      <td>44.332750</td>\n",
       "      <td>41.310550</td>\n",
       "      <td>37.427900</td>\n",
       "      <td>2503.449500</td>\n",
       "      <td>0.577367</td>\n",
       "      <td>19.787017</td>\n",
       "      <td>1.070467</td>\n",
       "      <td>59.455267</td>\n",
       "      <td>6.690308</td>\n",
       "      <td>10.237750</td>\n",
       "    </tr>\n",
       "    <tr>\n",
       "      <th>...</th>\n",
       "      <td>...</td>\n",
       "      <td>...</td>\n",
       "      <td>...</td>\n",
       "      <td>...</td>\n",
       "      <td>...</td>\n",
       "      <td>...</td>\n",
       "      <td>...</td>\n",
       "      <td>...</td>\n",
       "      <td>...</td>\n",
       "      <td>...</td>\n",
       "      <td>...</td>\n",
       "      <td>...</td>\n",
       "      <td>...</td>\n",
       "      <td>...</td>\n",
       "      <td>...</td>\n",
       "      <td>...</td>\n",
       "      <td>...</td>\n",
       "    </tr>\n",
       "    <tr>\n",
       "      <th>2200</th>\n",
       "      <td>161.227572</td>\n",
       "      <td>109.779581</td>\n",
       "      <td>2.001438</td>\n",
       "      <td>10.202473</td>\n",
       "      <td>9.972037</td>\n",
       "      <td>9.850361</td>\n",
       "      <td>35.313783</td>\n",
       "      <td>40.874800</td>\n",
       "      <td>38.269267</td>\n",
       "      <td>30.404733</td>\n",
       "      <td>2543.911033</td>\n",
       "      <td>0.550833</td>\n",
       "      <td>46.628517</td>\n",
       "      <td>2.160600</td>\n",
       "      <td>59.033100</td>\n",
       "      <td>6.689930</td>\n",
       "      <td>10.184515</td>\n",
       "    </tr>\n",
       "    <tr>\n",
       "      <th>2201</th>\n",
       "      <td>161.206070</td>\n",
       "      <td>109.787481</td>\n",
       "      <td>1.998781</td>\n",
       "      <td>10.197919</td>\n",
       "      <td>9.966184</td>\n",
       "      <td>9.844854</td>\n",
       "      <td>35.321600</td>\n",
       "      <td>40.868883</td>\n",
       "      <td>38.268250</td>\n",
       "      <td>30.416233</td>\n",
       "      <td>2543.411333</td>\n",
       "      <td>0.547483</td>\n",
       "      <td>46.689817</td>\n",
       "      <td>2.151450</td>\n",
       "      <td>59.068000</td>\n",
       "      <td>6.692182</td>\n",
       "      <td>10.177767</td>\n",
       "    </tr>\n",
       "    <tr>\n",
       "      <th>2202</th>\n",
       "      <td>161.192120</td>\n",
       "      <td>109.756174</td>\n",
       "      <td>1.993436</td>\n",
       "      <td>10.196824</td>\n",
       "      <td>9.964329</td>\n",
       "      <td>9.842628</td>\n",
       "      <td>35.319183</td>\n",
       "      <td>40.875950</td>\n",
       "      <td>38.246367</td>\n",
       "      <td>30.426250</td>\n",
       "      <td>2542.729767</td>\n",
       "      <td>0.545233</td>\n",
       "      <td>46.472300</td>\n",
       "      <td>2.143300</td>\n",
       "      <td>59.132350</td>\n",
       "      <td>6.693277</td>\n",
       "      <td>10.176172</td>\n",
       "    </tr>\n",
       "    <tr>\n",
       "      <th>2203</th>\n",
       "      <td>161.208917</td>\n",
       "      <td>109.793884</td>\n",
       "      <td>2.007077</td>\n",
       "      <td>10.198588</td>\n",
       "      <td>9.968232</td>\n",
       "      <td>9.846690</td>\n",
       "      <td>35.324767</td>\n",
       "      <td>40.876067</td>\n",
       "      <td>38.245733</td>\n",
       "      <td>30.414283</td>\n",
       "      <td>2544.046333</td>\n",
       "      <td>0.537017</td>\n",
       "      <td>46.544967</td>\n",
       "      <td>2.148483</td>\n",
       "      <td>58.970800</td>\n",
       "      <td>6.684128</td>\n",
       "      <td>10.178353</td>\n",
       "    </tr>\n",
       "    <tr>\n",
       "      <th>2204</th>\n",
       "      <td>161.217128</td>\n",
       "      <td>109.792177</td>\n",
       "      <td>2.002690</td>\n",
       "      <td>10.203126</td>\n",
       "      <td>9.973638</td>\n",
       "      <td>9.851949</td>\n",
       "      <td>35.322233</td>\n",
       "      <td>40.859400</td>\n",
       "      <td>38.248917</td>\n",
       "      <td>30.390800</td>\n",
       "      <td>2543.818300</td>\n",
       "      <td>0.546583</td>\n",
       "      <td>46.647933</td>\n",
       "      <td>2.157050</td>\n",
       "      <td>59.053900</td>\n",
       "      <td>6.692302</td>\n",
       "      <td>10.183393</td>\n",
       "    </tr>\n",
       "  </tbody>\n",
       "</table>\n",
       "<p>2205 rows × 17 columns</p>\n",
       "</div>"
      ],
      "text/plain": [
       "             PS1         PS2       PS3        PS4       PS5       PS6  \\\n",
       "0     160.673492  109.466914  1.991475   0.000000  9.842170  9.728097   \n",
       "1     160.603320  109.354890  1.976234   0.000000  9.635142  9.529488   \n",
       "2     160.347720  109.158845  1.972224   0.000000  9.530548  9.427949   \n",
       "3     160.188088  109.064807  1.946575   0.000000  9.438827  9.337430   \n",
       "4     160.000472  108.931434  1.922707   0.000000  9.358762  9.260636   \n",
       "...          ...         ...       ...        ...       ...       ...   \n",
       "2200  161.227572  109.779581  2.001438  10.202473  9.972037  9.850361   \n",
       "2201  161.206070  109.787481  1.998781  10.197919  9.966184  9.844854   \n",
       "2202  161.192120  109.756174  1.993436  10.196824  9.964329  9.842628   \n",
       "2203  161.208917  109.793884  2.007077  10.198588  9.968232  9.846690   \n",
       "2204  161.217128  109.792177  2.002690  10.203126  9.973638  9.851949   \n",
       "\n",
       "            TS1        TS2        TS3        TS4         EPS1       VS1  \\\n",
       "0     35.621983  40.978767  38.471017  31.745250  2538.929167  0.576950   \n",
       "1     36.676967  41.532767  38.978967  34.493867  2531.498900  0.565850   \n",
       "2     37.880800  42.442450  39.631950  35.646150  2519.928000  0.576533   \n",
       "3     38.879050  43.403983  40.403383  36.579467  2511.541633  0.569267   \n",
       "4     39.803917  44.332750  41.310550  37.427900  2503.449500  0.577367   \n",
       "...         ...        ...        ...        ...          ...       ...   \n",
       "2200  35.313783  40.874800  38.269267  30.404733  2543.911033  0.550833   \n",
       "2201  35.321600  40.868883  38.268250  30.416233  2543.411333  0.547483   \n",
       "2202  35.319183  40.875950  38.246367  30.426250  2542.729767  0.545233   \n",
       "2203  35.324767  40.876067  38.245733  30.414283  2544.046333  0.537017   \n",
       "2204  35.322233  40.859400  38.248917  30.390800  2543.818300  0.546583   \n",
       "\n",
       "             CE        CP         SE       FS1        FS2  \n",
       "0     39.601350  1.862750  59.157183  6.709815  10.304592  \n",
       "1     25.786433  1.255550  59.335617  6.715315  10.403098  \n",
       "2     22.218233  1.113217  59.543150  6.718522  10.366250  \n",
       "3     20.459817  1.062150  59.794900  6.720565  10.302678  \n",
       "4     19.787017  1.070467  59.455267  6.690308  10.237750  \n",
       "...         ...       ...        ...       ...        ...  \n",
       "2200  46.628517  2.160600  59.033100  6.689930  10.184515  \n",
       "2201  46.689817  2.151450  59.068000  6.692182  10.177767  \n",
       "2202  46.472300  2.143300  59.132350  6.693277  10.176172  \n",
       "2203  46.544967  2.148483  58.970800  6.684128  10.178353  \n",
       "2204  46.647933  2.157050  59.053900  6.692302  10.183393  \n",
       "\n",
       "[2205 rows x 17 columns]"
      ]
     },
     "execution_count": 17,
     "metadata": {},
     "output_type": "execute_result"
    }
   ],
   "source": [
    "df_full"
   ]
  },
  {
   "cell_type": "code",
   "execution_count": 18,
   "metadata": {},
   "outputs": [
    {
     "data": {
      "text/html": [
       "<div>\n",
       "<style scoped>\n",
       "    .dataframe tbody tr th:only-of-type {\n",
       "        vertical-align: middle;\n",
       "    }\n",
       "\n",
       "    .dataframe tbody tr th {\n",
       "        vertical-align: top;\n",
       "    }\n",
       "\n",
       "    .dataframe thead th {\n",
       "        text-align: right;\n",
       "    }\n",
       "</style>\n",
       "<table border=\"1\" class=\"dataframe\">\n",
       "  <thead>\n",
       "    <tr style=\"text-align: right;\">\n",
       "      <th></th>\n",
       "      <th>PS1</th>\n",
       "      <th>PS2</th>\n",
       "      <th>PS3</th>\n",
       "      <th>PS4</th>\n",
       "      <th>PS5</th>\n",
       "      <th>PS6</th>\n",
       "      <th>TS1</th>\n",
       "      <th>TS2</th>\n",
       "      <th>TS3</th>\n",
       "      <th>TS4</th>\n",
       "      <th>EPS1</th>\n",
       "      <th>VS1</th>\n",
       "      <th>CE</th>\n",
       "      <th>CP</th>\n",
       "      <th>SE</th>\n",
       "      <th>FS1</th>\n",
       "      <th>FS2</th>\n",
       "    </tr>\n",
       "  </thead>\n",
       "  <tbody>\n",
       "    <tr>\n",
       "      <th>count</th>\n",
       "      <td>2205.000000</td>\n",
       "      <td>2205.000000</td>\n",
       "      <td>2205.000000</td>\n",
       "      <td>2205.000000</td>\n",
       "      <td>2205.000000</td>\n",
       "      <td>2205.000000</td>\n",
       "      <td>2205.000000</td>\n",
       "      <td>2205.000000</td>\n",
       "      <td>2205.000000</td>\n",
       "      <td>2205.000000</td>\n",
       "      <td>2205.000000</td>\n",
       "      <td>2205.000000</td>\n",
       "      <td>2205.000000</td>\n",
       "      <td>2205.000000</td>\n",
       "      <td>2205.000000</td>\n",
       "      <td>2205.000000</td>\n",
       "      <td>2205.000000</td>\n",
       "    </tr>\n",
       "    <tr>\n",
       "      <th>mean</th>\n",
       "      <td>160.485315</td>\n",
       "      <td>109.379906</td>\n",
       "      <td>1.753227</td>\n",
       "      <td>2.600266</td>\n",
       "      <td>9.163320</td>\n",
       "      <td>9.079363</td>\n",
       "      <td>45.424567</td>\n",
       "      <td>50.365979</td>\n",
       "      <td>47.662121</td>\n",
       "      <td>40.735654</td>\n",
       "      <td>2495.509203</td>\n",
       "      <td>0.613315</td>\n",
       "      <td>31.299077</td>\n",
       "      <td>1.808399</td>\n",
       "      <td>55.287900</td>\n",
       "      <td>6.198549</td>\n",
       "      <td>9.649453</td>\n",
       "    </tr>\n",
       "    <tr>\n",
       "      <th>std</th>\n",
       "      <td>4.699425</td>\n",
       "      <td>4.986585</td>\n",
       "      <td>0.251902</td>\n",
       "      <td>4.279355</td>\n",
       "      <td>0.576296</td>\n",
       "      <td>0.549589</td>\n",
       "      <td>7.991933</td>\n",
       "      <td>7.396254</td>\n",
       "      <td>7.451888</td>\n",
       "      <td>8.107878</td>\n",
       "      <td>73.836682</td>\n",
       "      <td>0.060260</td>\n",
       "      <td>11.575330</td>\n",
       "      <td>0.278263</td>\n",
       "      <td>8.960189</td>\n",
       "      <td>1.032883</td>\n",
       "      <td>0.449246</td>\n",
       "    </tr>\n",
       "    <tr>\n",
       "      <th>min</th>\n",
       "      <td>155.391547</td>\n",
       "      <td>104.406307</td>\n",
       "      <td>0.840252</td>\n",
       "      <td>0.000000</td>\n",
       "      <td>8.365800</td>\n",
       "      <td>8.321527</td>\n",
       "      <td>35.313783</td>\n",
       "      <td>40.859400</td>\n",
       "      <td>38.245733</td>\n",
       "      <td>30.390800</td>\n",
       "      <td>2361.747267</td>\n",
       "      <td>0.524367</td>\n",
       "      <td>17.555983</td>\n",
       "      <td>1.062150</td>\n",
       "      <td>18.276617</td>\n",
       "      <td>2.018572</td>\n",
       "      <td>8.857513</td>\n",
       "    </tr>\n",
       "    <tr>\n",
       "      <th>25%</th>\n",
       "      <td>158.100195</td>\n",
       "      <td>106.962382</td>\n",
       "      <td>1.729733</td>\n",
       "      <td>0.000000</td>\n",
       "      <td>8.547239</td>\n",
       "      <td>8.487167</td>\n",
       "      <td>36.237150</td>\n",
       "      <td>41.864183</td>\n",
       "      <td>39.123183</td>\n",
       "      <td>31.272567</td>\n",
       "      <td>2442.933467</td>\n",
       "      <td>0.555100</td>\n",
       "      <td>20.084650</td>\n",
       "      <td>1.550100</td>\n",
       "      <td>56.270183</td>\n",
       "      <td>6.391670</td>\n",
       "      <td>9.203397</td>\n",
       "    </tr>\n",
       "    <tr>\n",
       "      <th>50%</th>\n",
       "      <td>158.960895</td>\n",
       "      <td>107.730169</td>\n",
       "      <td>1.779631</td>\n",
       "      <td>0.000000</td>\n",
       "      <td>9.115781</td>\n",
       "      <td>9.031516</td>\n",
       "      <td>44.836650</td>\n",
       "      <td>49.780583</td>\n",
       "      <td>47.070250</td>\n",
       "      <td>40.429050</td>\n",
       "      <td>2480.926633</td>\n",
       "      <td>0.610183</td>\n",
       "      <td>27.392533</td>\n",
       "      <td>1.739683</td>\n",
       "      <td>58.758150</td>\n",
       "      <td>6.576673</td>\n",
       "      <td>9.692270</td>\n",
       "    </tr>\n",
       "    <tr>\n",
       "      <th>75%</th>\n",
       "      <td>161.000735</td>\n",
       "      <td>109.421612</td>\n",
       "      <td>1.932047</td>\n",
       "      <td>3.503266</td>\n",
       "      <td>9.844351</td>\n",
       "      <td>9.729275</td>\n",
       "      <td>54.104317</td>\n",
       "      <td>58.584467</td>\n",
       "      <td>55.694433</td>\n",
       "      <td>49.409500</td>\n",
       "      <td>2548.211467</td>\n",
       "      <td>0.649850</td>\n",
       "      <td>46.677383</td>\n",
       "      <td>2.148483</td>\n",
       "      <td>59.656900</td>\n",
       "      <td>6.657508</td>\n",
       "      <td>10.155008</td>\n",
       "    </tr>\n",
       "    <tr>\n",
       "      <th>max</th>\n",
       "      <td>180.922708</td>\n",
       "      <td>131.589089</td>\n",
       "      <td>2.023398</td>\n",
       "      <td>10.207068</td>\n",
       "      <td>9.978510</td>\n",
       "      <td>9.856591</td>\n",
       "      <td>57.899283</td>\n",
       "      <td>61.958467</td>\n",
       "      <td>59.423167</td>\n",
       "      <td>53.060417</td>\n",
       "      <td>2740.641000</td>\n",
       "      <td>0.839067</td>\n",
       "      <td>47.903667</td>\n",
       "      <td>2.840100</td>\n",
       "      <td>60.755300</td>\n",
       "      <td>6.722707</td>\n",
       "      <td>10.403098</td>\n",
       "    </tr>\n",
       "  </tbody>\n",
       "</table>\n",
       "</div>"
      ],
      "text/plain": [
       "               PS1          PS2          PS3          PS4          PS5  \\\n",
       "count  2205.000000  2205.000000  2205.000000  2205.000000  2205.000000   \n",
       "mean    160.485315   109.379906     1.753227     2.600266     9.163320   \n",
       "std       4.699425     4.986585     0.251902     4.279355     0.576296   \n",
       "min     155.391547   104.406307     0.840252     0.000000     8.365800   \n",
       "25%     158.100195   106.962382     1.729733     0.000000     8.547239   \n",
       "50%     158.960895   107.730169     1.779631     0.000000     9.115781   \n",
       "75%     161.000735   109.421612     1.932047     3.503266     9.844351   \n",
       "max     180.922708   131.589089     2.023398    10.207068     9.978510   \n",
       "\n",
       "               PS6          TS1          TS2          TS3          TS4  \\\n",
       "count  2205.000000  2205.000000  2205.000000  2205.000000  2205.000000   \n",
       "mean      9.079363    45.424567    50.365979    47.662121    40.735654   \n",
       "std       0.549589     7.991933     7.396254     7.451888     8.107878   \n",
       "min       8.321527    35.313783    40.859400    38.245733    30.390800   \n",
       "25%       8.487167    36.237150    41.864183    39.123183    31.272567   \n",
       "50%       9.031516    44.836650    49.780583    47.070250    40.429050   \n",
       "75%       9.729275    54.104317    58.584467    55.694433    49.409500   \n",
       "max       9.856591    57.899283    61.958467    59.423167    53.060417   \n",
       "\n",
       "              EPS1          VS1           CE           CP           SE  \\\n",
       "count  2205.000000  2205.000000  2205.000000  2205.000000  2205.000000   \n",
       "mean   2495.509203     0.613315    31.299077     1.808399    55.287900   \n",
       "std      73.836682     0.060260    11.575330     0.278263     8.960189   \n",
       "min    2361.747267     0.524367    17.555983     1.062150    18.276617   \n",
       "25%    2442.933467     0.555100    20.084650     1.550100    56.270183   \n",
       "50%    2480.926633     0.610183    27.392533     1.739683    58.758150   \n",
       "75%    2548.211467     0.649850    46.677383     2.148483    59.656900   \n",
       "max    2740.641000     0.839067    47.903667     2.840100    60.755300   \n",
       "\n",
       "               FS1          FS2  \n",
       "count  2205.000000  2205.000000  \n",
       "mean      6.198549     9.649453  \n",
       "std       1.032883     0.449246  \n",
       "min       2.018572     8.857513  \n",
       "25%       6.391670     9.203397  \n",
       "50%       6.576673     9.692270  \n",
       "75%       6.657508    10.155008  \n",
       "max       6.722707    10.403098  "
      ]
     },
     "execution_count": 18,
     "metadata": {},
     "output_type": "execute_result"
    }
   ],
   "source": [
    "df_full.describe()"
   ]
  },
  {
   "cell_type": "code",
   "execution_count": 19,
   "metadata": {},
   "outputs": [
    {
     "name": "stdout",
     "output_type": "stream",
     "text": [
      "PS1     0\n",
      "PS2     0\n",
      "PS3     0\n",
      "PS4     0\n",
      "PS5     0\n",
      "PS6     0\n",
      "TS1     0\n",
      "TS2     0\n",
      "TS3     0\n",
      "TS4     0\n",
      "EPS1    0\n",
      "VS1     0\n",
      "CE      0\n",
      "CP      0\n",
      "SE      0\n",
      "FS1     0\n",
      "FS2     0\n",
      "dtype: int64\n"
     ]
    }
   ],
   "source": [
    "# Check for NaN values. Although the files state that there's no missing vallues, a check is always good.\n",
    "print(df_full.isna().sum())"
   ]
  },
  {
   "cell_type": "code",
   "execution_count": 20,
   "metadata": {},
   "outputs": [
    {
     "data": {
      "image/png": "[encoded data removed]",
      "text/plain": [
       "<Figure size 1440x540 with 20 Axes>"
      ]
     },
     "metadata": {
      "needs_background": "light"
     },
     "output_type": "display_data"
    },
    {
     "data": {
      "image/png": "[encoded data removed]",
      "text/plain": [
       "<Figure size 1080x720 with 25 Axes>"
      ]
     },
     "metadata": {
      "needs_background": "light"
     },
     "output_type": "display_data"
    }
   ],
   "source": [
    "var_numb = 35\n",
    "\n",
    "# Histograms\n",
    "df_full.hist()\n",
    "plt.tight_layout()\n",
    "plt.rcParams['figure.figsize'] = [15, 11]\n",
    "plt.show()\n",
    "\n",
    "plt.rcParams['figure.figsize'] = [15, 10]\n",
    "# Boxplots\n",
    "df_full.plot(kind='box', subplots=True, layout=(int(m.sqrt(var_numb)), int(m.sqrt(var_numb))), sharex=False, sharey=False)\n",
    "plt.show()\n",
    "# lots of outlier in some of the features\n",
    "# might be smart removing some feature to train with less outliers"
   ]
  },
  {
   "cell_type": "markdown",
   "metadata": {},
   "source": [
    "#### Correlation coefficients"
   ]
  },
  {
   "cell_type": "code",
   "execution_count": 21,
   "metadata": {},
   "outputs": [
    {
     "data": {
      "image/png": "[encoded data removed]",
      "text/plain": [
       "<Figure size 1080x720 with 2 Axes>"
      ]
     },
     "metadata": {
      "needs_background": "light"
     },
     "output_type": "display_data"
    }
   ],
   "source": [
    "sns.heatmap(df_full.corr(), annot=True, fmt=\".2f\")\n",
    "plt.show()"
   ]
  },
  {
   "cell_type": "markdown",
   "metadata": {},
   "source": [
    "### Model building, scoring and hyperparameter tweaking"
   ]
  },
  {
   "cell_type": "markdown",
   "metadata": {},
   "source": [
    "#### Simple model testing without tweaking"
   ]
  },
  {
   "cell_type": "code",
   "execution_count": 60,
   "metadata": {},
   "outputs": [
    {
     "name": "stdout",
     "output_type": "stream",
     "text": [
      "Test Accuracy: 0.567\n"
     ]
    }
   ],
   "source": [
    "##### Preprocess\n",
    "X = df_full\n",
    "y = target.valve_condition\n",
    "\n",
    "X_train, X_test, y_train, y_test = train_test_split(X, y, test_size=0.2, random_state=1, stratify=y)\n",
    "\n",
    "\n",
    "# SVC\n",
    "pipe_svc = make_pipeline(StandardScaler(), SVC(random_state=1))\n",
    "pipe_svc.get_params()\n",
    "\n",
    "pipe_svc.fit(X_train, y_train)\n",
    "y_pred = pipe_svc.predict(X_test)\n",
    "print('Test Accuracy: %.3f' % pipe_svc.score(X_test, y_test))"
   ]
  },
  {
   "cell_type": "code",
   "execution_count": 61,
   "metadata": {},
   "outputs": [
    {
     "data": {
      "image/png": "[encoded data removed]",
      "text/plain": [
       "<Figure size 288x288 with 1 Axes>"
      ]
     },
     "metadata": {
      "needs_background": "light"
     },
     "output_type": "display_data"
    },
    {
     "name": "stdout",
     "output_type": "stream",
     "text": [
      "                            precision    recall  f1-score   support\n",
      "\n",
      "    close to total failure       0.56      0.35      0.43        72\n",
      "                severe lag       0.00      0.00      0.00        72\n",
      "                 small lag       0.00      0.00      0.00        72\n",
      "optimal switching behavior       0.57      1.00      0.73       225\n",
      "\n",
      "                  accuracy                           0.57       441\n",
      "                 macro avg       0.28      0.34      0.29       441\n",
      "              weighted avg       0.38      0.57      0.44       441\n",
      "\n"
     ]
    }
   ],
   "source": [
    "confmat = confusion_matrix(y_true=y_test, y_pred=y_pred)\n",
    "\n",
    "fig, ax = plt.subplots(figsize=(4, 4))\n",
    "ax.matshow(confmat, cmap=plt.cm.Blues, alpha=0.3)\n",
    "for i in range(confmat.shape[0]):\n",
    "    for j in range(confmat.shape[1]):\n",
    "        ax.text(x=j, y=i, s=confmat[i, j], va='center', ha='center')\n",
    "\n",
    "plt.xlabel('Label predicted')\n",
    "plt.ylabel('Actual label')\n",
    "\n",
    "plt.tight_layout()\n",
    "plt.show()\n",
    "\n",
    "# a classification report\n",
    "\n",
    "target_names = ['close to total failure', 'severe lag', 'small lag', 'optimal switching behavior']\n",
    "print(classification_report(y_test, y_pred, target_names=target_names))"
   ]
  },
  {
   "cell_type": "code",
   "execution_count": 62,
   "metadata": {},
   "outputs": [
    {
     "name": "stdout",
     "output_type": "stream",
     "text": [
      "Test Accuracy: 0.984\n",
      "\n"
     ]
    },
    {
     "data": {
      "text/plain": [
       "{'memory': None,\n",
       " 'steps': [('randomforestclassifier', RandomForestClassifier(random_state=1))],\n",
       " 'verbose': False,\n",
       " 'randomforestclassifier': RandomForestClassifier(random_state=1),\n",
       " 'randomforestclassifier__bootstrap': True,\n",
       " 'randomforestclassifier__ccp_alpha': 0.0,\n",
       " 'randomforestclassifier__class_weight': None,\n",
       " 'randomforestclassifier__criterion': 'gini',\n",
       " 'randomforestclassifier__max_depth': None,\n",
       " 'randomforestclassifier__max_features': 'auto',\n",
       " 'randomforestclassifier__max_leaf_nodes': None,\n",
       " 'randomforestclassifier__max_samples': None,\n",
       " 'randomforestclassifier__min_impurity_decrease': 0.0,\n",
       " 'randomforestclassifier__min_impurity_split': None,\n",
       " 'randomforestclassifier__min_samples_leaf': 1,\n",
       " 'randomforestclassifier__min_samples_split': 2,\n",
       " 'randomforestclassifier__min_weight_fraction_leaf': 0.0,\n",
       " 'randomforestclassifier__n_estimators': 100,\n",
       " 'randomforestclassifier__n_jobs': None,\n",
       " 'randomforestclassifier__oob_score': False,\n",
       " 'randomforestclassifier__random_state': 1,\n",
       " 'randomforestclassifier__verbose': 0,\n",
       " 'randomforestclassifier__warm_start': False}"
      ]
     },
     "execution_count": 62,
     "metadata": {},
     "output_type": "execute_result"
    }
   ],
   "source": [
    "# Simple training data pipeline\n",
    "#Random Forest\n",
    "pipe_rfr = make_pipeline(RandomForestClassifier(random_state=1))\n",
    "\n",
    "\n",
    "pipe_rfr.fit(X_train, y_train)\n",
    "y_pred = pipe_rfr.predict(X_test)\n",
    "\n",
    "print('Test Accuracy: %.3f' % pipe_rfr.score(X_test, y_test))\n",
    "print(\"\")\n",
    "pipe_rfr.get_params()"
   ]
  },
  {
   "cell_type": "code",
   "execution_count": 63,
   "metadata": {},
   "outputs": [
    {
     "data": {
      "image/png": "[encoded data removed]",
      "text/plain": [
       "<Figure size 288x288 with 1 Axes>"
      ]
     },
     "metadata": {
      "needs_background": "light"
     },
     "output_type": "display_data"
    },
    {
     "name": "stdout",
     "output_type": "stream",
     "text": [
      "                            precision    recall  f1-score   support\n",
      "\n",
      "    close to total failure       1.00      1.00      1.00        72\n",
      "                severe lag       0.96      0.99      0.97        72\n",
      "                 small lag       0.95      0.99      0.97        72\n",
      "optimal switching behavior       1.00      0.98      0.99       225\n",
      "\n",
      "                  accuracy                           0.98       441\n",
      "                 macro avg       0.98      0.99      0.98       441\n",
      "              weighted avg       0.98      0.98      0.98       441\n",
      "\n"
     ]
    }
   ],
   "source": [
    "confmat = confusion_matrix(y_true=y_test, y_pred=y_pred)\n",
    "\n",
    "fig, ax = plt.subplots(figsize=(4, 4))\n",
    "ax.matshow(confmat, cmap=plt.cm.Blues, alpha=0.3)\n",
    "for i in range(confmat.shape[0]):\n",
    "    for j in range(confmat.shape[1]):\n",
    "        ax.text(x=j, y=i, s=confmat[i, j], va='center', ha='center')\n",
    "\n",
    "plt.xlabel('Label predicted')\n",
    "plt.ylabel('Actual label')\n",
    "\n",
    "plt.tight_layout()\n",
    "plt.show()\n",
    "\n",
    "# a classification report\n",
    "target_names = ['close to total failure', 'severe lag', 'small lag', 'optimal switching behavior']\n",
    "print(classification_report(y_test, y_pred, target_names=target_names))"
   ]
  },
  {
   "cell_type": "code",
   "execution_count": 64,
   "metadata": {},
   "outputs": [
    {
     "name": "stdout",
     "output_type": "stream",
     "text": [
      "Test Accuracy: 0.506\n"
     ]
    }
   ],
   "source": [
    "# Logistis regression\n",
    "pipe_lr = make_pipeline(StandardScaler(),   \n",
    "                        PCA(n_components=2), \n",
    "                        LogisticRegression(solver = 'lbfgs', multi_class='auto', random_state=1)) \n",
    "\n",
    "pipe_lr.fit(X_train, y_train)\n",
    "y_pred = pipe_lr.predict(X_test)\n",
    "print('Test Accuracy: %.3f' % pipe_lr.score(X_test, y_test))"
   ]
  },
  {
   "cell_type": "code",
   "execution_count": 65,
   "metadata": {
    "scrolled": true
   },
   "outputs": [
    {
     "data": {
      "image/png": "[encoded data removed]",
      "text/plain": [
       "<Figure size 288x288 with 1 Axes>"
      ]
     },
     "metadata": {
      "needs_background": "light"
     },
     "output_type": "display_data"
    },
    {
     "name": "stdout",
     "output_type": "stream",
     "text": [
      "                            precision    recall  f1-score   support\n",
      "\n",
      "    close to total failure       0.24      0.12      0.17        72\n",
      "                severe lag       0.00      0.00      0.00        72\n",
      "                 small lag       0.00      0.00      0.00        72\n",
      "optimal switching behavior       0.53      0.95      0.68       225\n",
      "\n",
      "                  accuracy                           0.51       441\n",
      "                 macro avg       0.19      0.27      0.21       441\n",
      "              weighted avg       0.31      0.51      0.37       441\n",
      "\n"
     ]
    },
    {
     "name": "stderr",
     "output_type": "stream",
     "text": [
      "C:\\Users\\hei\\anaconda3\\lib\\site-packages\\sklearn\\metrics\\_classification.py:1221: UndefinedMetricWarning: Precision and F-score are ill-defined and being set to 0.0 in labels with no predicted samples. Use `zero_division` parameter to control this behavior.\n",
      "  _warn_prf(average, modifier, msg_start, len(result))\n"
     ]
    }
   ],
   "source": [
    "# Poor model, confusion matrix to see\n",
    "confmat = confusion_matrix(y_true=y_test, y_pred=y_pred)\n",
    "\n",
    "fig, ax = plt.subplots(figsize=(4, 4))\n",
    "ax.matshow(confmat, cmap=plt.cm.Blues, alpha=0.3)\n",
    "for i in range(confmat.shape[0]):\n",
    "    for j in range(confmat.shape[1]):\n",
    "        ax.text(x=j, y=i, s=confmat[i, j], va='center', ha='center')\n",
    "\n",
    "plt.xlabel('Label predicted')\n",
    "plt.ylabel('Actual label')\n",
    "\n",
    "plt.tight_layout()\n",
    "plt.show()\n",
    "\n",
    "# a classification report\n",
    "target_names = ['close to total failure', 'severe lag', 'small lag', 'optimal switching behavior']\n",
    "print(classification_report(y_test, y_pred, target_names=target_names))"
   ]
  },
  {
   "cell_type": "markdown",
   "metadata": {},
   "source": [
    "#### RandomSearch on RandomForest"
   ]
  },
  {
   "cell_type": "code",
   "execution_count": 28,
   "metadata": {},
   "outputs": [
    {
     "name": "stderr",
     "output_type": "stream",
     "text": [
      "[Parallel(n_jobs=-1)]: Using backend LokyBackend with 20 concurrent workers.\n"
     ]
    },
    {
     "name": "stdout",
     "output_type": "stream",
     "text": [
      "Fitting 3 folds for each of 80 candidates, totalling 240 fits\n"
     ]
    },
    {
     "name": "stderr",
     "output_type": "stream",
     "text": [
      "[Parallel(n_jobs=-1)]: Done  10 tasks      | elapsed:    6.1s\n",
      "[Parallel(n_jobs=-1)]: Done 160 tasks      | elapsed:   57.1s\n",
      "[Parallel(n_jobs=-1)]: Done 240 out of 240 | elapsed:  1.3min finished\n"
     ]
    }
   ],
   "source": [
    "forest_ = RandomForestClassifier(random_state = 1)\n",
    "\n",
    "estim = [int(k) for k in np.linspace(start = 200, stop = 3000, num = 15)]\n",
    "feat = ['auto', 'sqrt']\n",
    "\n",
    "dpth = [int(l) for l in np.linspace(5, 145, num = 15)]\n",
    "dpth.append(None)\n",
    "\n",
    "split_min = [2, 4, 6, 8]\n",
    "leaf_min = [1, 2, 3, 4]\n",
    "bootstrap = [True, False]\n",
    "\n",
    "# Create the random grid\n",
    "params_rand = {'n_estimators': estim,\n",
    "               'max_features': feat,\n",
    "               'max_depth': dpth,\n",
    "               'min_samples_split': split_min,\n",
    "               'min_samples_leaf': leaf_min,\n",
    "               'bootstrap': bootstrap}\n",
    "\n",
    "randomRFC = RandomizedSearchCV(forest_, param_distributions=params_rand, \n",
    "                            n_iter=80, cv = 3, verbose = 1, \n",
    "                            n_jobs = -1)\n",
    "best_randomRFC = randomRFC.fit(X_train, y_train)"
   ]
  },
  {
   "cell_type": "code",
   "execution_count": 66,
   "metadata": {},
   "outputs": [
    {
     "name": "stdout",
     "output_type": "stream",
     "text": [
      "0.9665532879818595\n",
      "{'n_estimators': 2600, 'min_samples_split': 2, 'min_samples_leaf': 1, 'max_features': 'sqrt', 'max_depth': 65, 'bootstrap': True}\n"
     ]
    }
   ],
   "source": [
    "print(randomRFC.best_score_)\n",
    "print(randomRFC.best_params_)"
   ]
  },
  {
   "cell_type": "markdown",
   "metadata": {},
   "source": [
    "#### Random Forest with best hyperparameters and optimized weights"
   ]
  },
  {
   "cell_type": "code",
   "execution_count": 83,
   "metadata": {},
   "outputs": [
    {
     "name": "stdout",
     "output_type": "stream",
     "text": [
      "Test Accuracy: 0.986\n",
      "\n"
     ]
    }
   ],
   "source": [
    "#Random Forest\n",
    "pipe_rfr = make_pipeline(RandomForestClassifier(n_estimators = 600, min_samples_split = 2, max_features = 'auto',\n",
    "                                                max_depth = 45, bootstrap = False,random_state=1))\n",
    "\n",
    "\n",
    "pipe_rfr.fit(X_train, y_train)\n",
    "y_pred = pipe_rfr.predict(X_test)\n",
    "\n",
    "print('Test Accuracy: %.3f' % pipe_rfr.score(X_test, y_test))\n",
    "print(\"\")"
   ]
  },
  {
   "cell_type": "code",
   "execution_count": 68,
   "metadata": {},
   "outputs": [
    {
     "data": {
      "image/png": "[encoded data removed]",
      "text/plain": [
       "<Figure size 288x288 with 1 Axes>"
      ]
     },
     "metadata": {
      "needs_background": "light"
     },
     "output_type": "display_data"
    },
    {
     "name": "stdout",
     "output_type": "stream",
     "text": [
      "                            precision    recall  f1-score   support\n",
      "\n",
      "    close to total failure       1.00      1.00      1.00        72\n",
      "                severe lag       0.97      0.97      0.97        72\n",
      "                 small lag       0.95      0.97      0.96        72\n",
      "optimal switching behavior       0.99      0.98      0.99       225\n",
      "\n",
      "                  accuracy                           0.98       441\n",
      "                 macro avg       0.98      0.98      0.98       441\n",
      "              weighted avg       0.98      0.98      0.98       441\n",
      "\n"
     ]
    }
   ],
   "source": [
    "confmat = confusion_matrix(y_true=y_test, y_pred=y_pred)\n",
    "\n",
    "fig, ax = plt.subplots(figsize=(4, 4))\n",
    "ax.matshow(confmat, cmap=plt.cm.Blues, alpha=0.3)\n",
    "for i in range(confmat.shape[0]):\n",
    "    for j in range(confmat.shape[1]):\n",
    "        ax.text(x=j, y=i, s=confmat[i, j], va='center', ha='center')\n",
    "\n",
    "plt.xlabel('Label predicted')\n",
    "plt.ylabel('Actual label')\n",
    "\n",
    "plt.tight_layout()\n",
    "plt.show()\n",
    "\n",
    "# a classification report\n",
    "target_names = ['close to total failure', 'severe lag', 'small lag', 'optimal switching behavior']\n",
    "print(classification_report(y_test, y_pred, target_names=target_names))"
   ]
  },
  {
   "cell_type": "markdown",
   "metadata": {},
   "source": [
    "### Bagging and boosting"
   ]
  },
  {
   "cell_type": "code",
   "execution_count": 69,
   "metadata": {},
   "outputs": [],
   "source": [
    "# When max_depth is none, \n",
    "# nodes are expanded until all leaves are pure or until all leaves contain less than min_samples_split samples.\n",
    "tree = DecisionTreeClassifier(criterion='entropy', \n",
    "                              max_depth=None, # Checking with None, trying to overfit\n",
    "                              random_state=1)\n",
    "\n",
    "bag  = BaggingClassifier(base_estimator    = tree,\n",
    "                        n_estimators       =   500,   # Number of classification models\n",
    "                        max_samples        =   1.0,   # bootstrap proportion\n",
    "                        max_features       =   1.0, \n",
    "                        bootstrap          =  True,   # with replacement\n",
    "                        bootstrap_features = False,   # no bootstrap of features\n",
    "                        n_jobs             =    -1, \n",
    "                        random_state       =     1)"
   ]
  },
  {
   "cell_type": "code",
   "execution_count": 70,
   "metadata": {},
   "outputs": [
    {
     "name": "stdout",
     "output_type": "stream",
     "text": [
      "{'ccp_alpha': 0.0, 'class_weight': None, 'criterion': 'entropy', 'max_depth': None, 'max_features': None, 'max_leaf_nodes': None, 'min_impurity_decrease': 0.0, 'min_impurity_split': None, 'min_samples_leaf': 1, 'min_samples_split': 2, 'min_weight_fraction_leaf': 0.0, 'presort': 'deprecated', 'random_state': 1, 'splitter': 'best'}\n",
      "\n",
      "Decision tree train/test accuracies: 1.000/0.914\n"
     ]
    }
   ],
   "source": [
    "# Fit a single tree\n",
    "tree = tree.fit(X_train, y_train)\n",
    "\n",
    "# Predict with the tree-model\n",
    "y_train_pred = tree.predict(X_train)\n",
    "y_test_pred  = tree.predict(X_test)\n",
    "\n",
    "print(tree.get_params())\n",
    "print(\"\")\n",
    "\n",
    "tree_train = accuracy_score(y_train, y_train_pred)\n",
    "tree_test  = accuracy_score(y_test, y_test_pred)\n",
    "print('Decision tree train/test accuracies: %.3f/%.3f'\n",
    "      % (tree_train, tree_test))"
   ]
  },
  {
   "cell_type": "code",
   "execution_count": 71,
   "metadata": {},
   "outputs": [
    {
     "data": {
      "image/png": "[encoded data removed]",
      "text/plain": [
       "<Figure size 288x288 with 1 Axes>"
      ]
     },
     "metadata": {
      "needs_background": "light"
     },
     "output_type": "display_data"
    },
    {
     "name": "stdout",
     "output_type": "stream",
     "text": [
      "                            precision    recall  f1-score   support\n",
      "\n",
      "    close to total failure       1.00      1.00      1.00        72\n",
      "                severe lag       0.97      0.97      0.97        72\n",
      "                 small lag       0.95      0.97      0.96        72\n",
      "optimal switching behavior       0.99      0.98      0.99       225\n",
      "\n",
      "                  accuracy                           0.98       441\n",
      "                 macro avg       0.98      0.98      0.98       441\n",
      "              weighted avg       0.98      0.98      0.98       441\n",
      "\n"
     ]
    }
   ],
   "source": [
    "confmat = confusion_matrix(y_true=y_test, y_pred=y_pred)\n",
    "\n",
    "fig, ax = plt.subplots(figsize=(4, 4))\n",
    "ax.matshow(confmat, cmap=plt.cm.Blues, alpha=0.3)\n",
    "for i in range(confmat.shape[0]):\n",
    "    for j in range(confmat.shape[1]):\n",
    "        ax.text(x=j, y=i, s=confmat[i, j], va='center', ha='center')\n",
    "\n",
    "plt.xlabel('Label predicted')\n",
    "plt.ylabel('Actual label')\n",
    "\n",
    "plt.tight_layout()\n",
    "plt.show()\n",
    "\n",
    "# a classification report\n",
    "target_names = ['close to total failure', 'severe lag', 'small lag', 'optimal switching behavior']\n",
    "print(classification_report(y_test, y_pred, target_names=target_names))"
   ]
  },
  {
   "cell_type": "code",
   "execution_count": 72,
   "metadata": {},
   "outputs": [
    {
     "name": "stdout",
     "output_type": "stream",
     "text": [
      "Bagging train/test accuracies: 1.000/0.984\n"
     ]
    }
   ],
   "source": [
    "# Fitting the 500 bootstrapped trees\n",
    "bag = bag.fit(X_train, y_train)\n",
    "\n",
    "# Predicting with the bag-model\n",
    "y_train_pred = bag.predict(X_train)\n",
    "y_test_pred  = bag.predict(X_test)\n",
    "\n",
    "bag_train = accuracy_score(y_train, y_train_pred) \n",
    "bag_test  = accuracy_score(y_test, y_test_pred) \n",
    "print('Bagging train/test accuracies: %.3f/%.3f'\n",
    "      % (bag_train, bag_test))"
   ]
  },
  {
   "cell_type": "code",
   "execution_count": 73,
   "metadata": {},
   "outputs": [
    {
     "data": {
      "image/png": "[encoded data removed]",
      "text/plain": [
       "<Figure size 288x288 with 1 Axes>"
      ]
     },
     "metadata": {
      "needs_background": "light"
     },
     "output_type": "display_data"
    },
    {
     "name": "stdout",
     "output_type": "stream",
     "text": [
      "                            precision    recall  f1-score   support\n",
      "\n",
      "    close to total failure       1.00      1.00      1.00        72\n",
      "                severe lag       0.97      0.97      0.97        72\n",
      "                 small lag       0.95      0.97      0.96        72\n",
      "optimal switching behavior       0.99      0.98      0.99       225\n",
      "\n",
      "                  accuracy                           0.98       441\n",
      "                 macro avg       0.98      0.98      0.98       441\n",
      "              weighted avg       0.98      0.98      0.98       441\n",
      "\n"
     ]
    }
   ],
   "source": [
    "confmat = confusion_matrix(y_true=y_test, y_pred=y_pred)\n",
    "\n",
    "fig, ax = plt.subplots(figsize=(4, 4))\n",
    "ax.matshow(confmat, cmap=plt.cm.Blues, alpha=0.3)\n",
    "for i in range(confmat.shape[0]):\n",
    "    for j in range(confmat.shape[1]):\n",
    "        ax.text(x=j, y=i, s=confmat[i, j], va='center', ha='center')\n",
    "\n",
    "plt.xlabel('Label predicted')\n",
    "plt.ylabel('Actual label')\n",
    "\n",
    "plt.tight_layout()\n",
    "plt.show()\n",
    "\n",
    "# a classification report\n",
    "target_names = ['close to total failure', 'severe lag', 'small lag', 'optimal switching behavior']\n",
    "print(classification_report(y_test, y_pred, target_names=target_names))"
   ]
  },
  {
   "cell_type": "markdown",
   "metadata": {},
   "source": [
    "#### AdaBoost with simple DecisionTree"
   ]
  },
  {
   "cell_type": "code",
   "execution_count": 74,
   "metadata": {},
   "outputs": [],
   "source": [
    "ada = AdaBoostClassifier(base_estimator    = tree,\n",
    "                         n_estimators      = 500,   # 500 repetitions, called m in the presentation\n",
    "                         learning_rate     = 0.1,   # Shrinkage of the classifier contribution (alpha).\n",
    "                                                    # This will affect the weighting of the samples.\n",
    "                         random_state=1)"
   ]
  },
  {
   "cell_type": "code",
   "execution_count": 75,
   "metadata": {},
   "outputs": [
    {
     "name": "stdout",
     "output_type": "stream",
     "text": [
      "AdaBoost train/test accuracies 1.000/0.916\n"
     ]
    }
   ],
   "source": [
    "# Fit and test AdaBoost\n",
    "ada          = ada.fit(X_train, y_train)\n",
    "y_train_pred = ada.predict(X_train)\n",
    "y_test_pred  = ada.predict(X_test)\n",
    "\n",
    "\n",
    "ada_train    = accuracy_score(y_train, y_train_pred) \n",
    "ada_test     = accuracy_score(y_test, y_test_pred) \n",
    "print('AdaBoost train/test accuracies %.3f/%.3f'  % (ada_train, ada_test))"
   ]
  },
  {
   "cell_type": "code",
   "execution_count": 76,
   "metadata": {},
   "outputs": [
    {
     "data": {
      "image/png": "[encoded data removed]",
      "text/plain": [
       "<Figure size 288x288 with 1 Axes>"
      ]
     },
     "metadata": {
      "needs_background": "light"
     },
     "output_type": "display_data"
    },
    {
     "name": "stdout",
     "output_type": "stream",
     "text": [
      "                            precision    recall  f1-score   support\n",
      "\n",
      "    close to total failure       1.00      1.00      1.00        72\n",
      "                severe lag       0.97      0.97      0.97        72\n",
      "                 small lag       0.95      0.97      0.96        72\n",
      "optimal switching behavior       0.99      0.98      0.99       225\n",
      "\n",
      "                  accuracy                           0.98       441\n",
      "                 macro avg       0.98      0.98      0.98       441\n",
      "              weighted avg       0.98      0.98      0.98       441\n",
      "\n"
     ]
    }
   ],
   "source": [
    "confmat = confusion_matrix(y_true=y_test, y_pred=y_pred)\n",
    "\n",
    "fig, ax = plt.subplots(figsize=(4, 4))\n",
    "ax.matshow(confmat, cmap=plt.cm.Blues, alpha=0.3)\n",
    "for i in range(confmat.shape[0]):\n",
    "    for j in range(confmat.shape[1]):\n",
    "        ax.text(x=j, y=i, s=confmat[i, j], va='center', ha='center')\n",
    "\n",
    "plt.xlabel('Label predicted')\n",
    "plt.ylabel('Actual label')\n",
    "\n",
    "plt.tight_layout()\n",
    "plt.show()\n",
    "\n",
    "# a classification report\n",
    "target_names = ['close to total failure', 'severe lag', 'small lag', 'optimal switching behavior']\n",
    "print(classification_report(y_test, y_pred, target_names=target_names))"
   ]
  },
  {
   "cell_type": "markdown",
   "metadata": {},
   "source": [
    "#### AdaBoost with tweaked RandomForestClassifier"
   ]
  },
  {
   "cell_type": "code",
   "execution_count": 77,
   "metadata": {},
   "outputs": [
    {
     "name": "stdout",
     "output_type": "stream",
     "text": [
      "AdaBoost train/test accuracies 1.000/0.982\n"
     ]
    }
   ],
   "source": [
    "rfr_for_ada = RandomForestClassifier(n_estimators = 600, min_samples_split = 2, max_features = 'auto',\n",
    "                                                max_depth = 45, bootstrap = False,random_state=1)\n",
    "\n",
    "rfr_ada = AdaBoostClassifier(base_estimator    = rfr_for_ada,\n",
    "                         n_estimators      = 500,   # 500 repetitions, called m in the presentation\n",
    "                         learning_rate     = 0.1,   # Shrinkage of the classifier contribution (alpha).\n",
    "                                                    # This will affect the weighting of the samples.\n",
    "                         random_state=1)\n",
    "\n",
    "rfr_ada = rfr_ada.fit(X_train, y_train)\n",
    "y_train_pred = rfr_ada.predict(X_train)\n",
    "y_test_pred  = rfr_ada.predict(X_test)\n",
    "\n",
    "\n",
    "rfr_ada_train    = accuracy_score(y_train, y_train_pred) \n",
    "rfr_ada_test     = accuracy_score(y_test, y_test_pred) \n",
    "print('AdaBoost train/test accuracies %.3f/%.3f'  % (rfr_ada_train, rfr_ada_test))"
   ]
  },
  {
   "cell_type": "markdown",
   "metadata": {},
   "source": [
    "#### Testing AdaBoost for all target values"
   ]
  },
  {
   "cell_type": "code",
   "execution_count": 78,
   "metadata": {},
   "outputs": [
    {
     "name": "stdout",
     "output_type": "stream",
     "text": [
      "AdaBoost train/test accuracies 1.000/0.998\n"
     ]
    }
   ],
   "source": [
    "y = target.cooler_condition\n",
    "\n",
    "\n",
    "X_train, X_test, y_train, y_test = train_test_split(X, y, test_size=0.2, random_state=1, stratify=y)\n",
    "\n",
    "rfr_ada = rfr_ada.fit(X_train, y_train)\n",
    "y_train_pred = rfr_ada.predict(X_train)\n",
    "y_test_pred  = rfr_ada.predict(X_test)\n",
    "\n",
    "\n",
    "rfr_ada_train    = accuracy_score(y_train, y_train_pred) \n",
    "rfr_ada_test     = accuracy_score(y_test, y_test_pred) \n",
    "print('AdaBoost train/test accuracies %.3f/%.3f'  % (rfr_ada_train, rfr_ada_test))"
   ]
  },
  {
   "cell_type": "code",
   "execution_count": 79,
   "metadata": {},
   "outputs": [
    {
     "name": "stdout",
     "output_type": "stream",
     "text": [
      "AdaBoost train/test accuracies 1.000/0.975\n"
     ]
    }
   ],
   "source": [
    "y = target.stable_flag\n",
    "\n",
    "X_train, X_test, y_train, y_test = train_test_split(X, y, test_size=0.2, random_state=1, stratify=y)\n",
    "\n",
    "rfr_ada = rfr_ada.fit(X_train, y_train)\n",
    "y_train_pred = rfr_ada.predict(X_train)\n",
    "y_test_pred  = rfr_ada.predict(X_test)\n",
    "\n",
    "\n",
    "rfr_ada_train    = accuracy_score(y_train, y_train_pred) \n",
    "rfr_ada_test     = accuracy_score(y_test, y_test_pred) \n",
    "print('AdaBoost train/test accuracies %.3f/%.3f'  % (rfr_ada_train, rfr_ada_test))"
   ]
  },
  {
   "cell_type": "code",
   "execution_count": 80,
   "metadata": {},
   "outputs": [
    {
     "name": "stdout",
     "output_type": "stream",
     "text": [
      "AdaBoost train/test accuracies 1.000/0.998\n"
     ]
    }
   ],
   "source": [
    "y = target.internal_pump_leak\n",
    "\n",
    "X_train, X_test, y_train, y_test = train_test_split(X, y, test_size=0.2, random_state=1, stratify=y)\n",
    "\n",
    "rfr_ada = rfr_ada.fit(X_train, y_train)\n",
    "y_train_pred = rfr_ada.predict(X_train)\n",
    "y_test_pred  = rfr_ada.predict(X_test)\n",
    "\n",
    "\n",
    "rfr_ada_train    = accuracy_score(y_train, y_train_pred) \n",
    "rfr_ada_test     = accuracy_score(y_test, y_test_pred) \n",
    "print('AdaBoost train/test accuracies %.3f/%.3f'  % (rfr_ada_train, rfr_ada_test))"
   ]
  },
  {
   "cell_type": "code",
   "execution_count": 81,
   "metadata": {},
   "outputs": [
    {
     "name": "stdout",
     "output_type": "stream",
     "text": [
      "AdaBoost train/test accuracies 1.000/0.984\n"
     ]
    }
   ],
   "source": [
    "y = target.hydraulic_accumulator\n",
    "\n",
    "X_train, X_test, y_train, y_test = train_test_split(X, y, test_size=0.2, random_state=1, stratify=y)\n",
    "\n",
    "rfr_ada = rfr_ada.fit(X_train, y_train)\n",
    "y_train_pred = rfr_ada.predict(X_train)\n",
    "y_test_pred  = rfr_ada.predict(X_test)\n",
    "\n",
    "\n",
    "rfr_ada_train    = accuracy_score(y_train, y_train_pred) \n",
    "rfr_ada_test     = accuracy_score(y_test, y_test_pred) \n",
    "print('AdaBoost train/test accuracies %.3f/%.3f'  % (rfr_ada_train, rfr_ada_test))"
   ]
  }
 ],
 "metadata": {
  "kernelspec": {
   "display_name": "Python 3",
   "language": "python",
   "name": "python3"
  },
  "language_info": {
   "codemirror_mode": {
    "name": "ipython",
    "version": 3
   },
   "file_extension": ".py",
   "mimetype": "text/x-python",
   "name": "python",
   "nbconvert_exporter": "python",
   "pygments_lexer": "ipython3",
   "version": "3.8.5"
  }
 },
 "nbformat": 4,
 "nbformat_minor": 4
}
